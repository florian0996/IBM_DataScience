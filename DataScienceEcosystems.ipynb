{
 "cells": [
  {
   "cell_type": "markdown",
   "id": "49cd7321",
   "metadata": {},
   "source": [
    "# Data Science Tools and Ecosystem"
   ]
  },
  {
   "cell_type": "markdown",
   "id": "b9536159",
   "metadata": {},
   "source": [
    "In this notebook, Data Science Tools and Ecosystem are summarized."
   ]
  },
  {
   "cell_type": "markdown",
   "id": "3cdc430b",
   "metadata": {},
   "source": [
    "**Objectives**\n",
    "- popular languages for Data Science\n",
    "- attractiveness of Data Science on the job market and for companies\n",
    "- common terms in Data Science (Glossary)\n",
    "- Regressin as a simple ML algorithm\n",
    "- not only retrieving conclusions, but also report them"
   ]
  },
  {
   "cell_type": "markdown",
   "id": "349bf948",
   "metadata": {},
   "source": [
    "Some of the popular languages that Data Scientists use are:\n",
    "1. SQL\n",
    "2. Python\n",
    "3. R\n",
    "4. Julia"
   ]
  },
  {
   "cell_type": "markdown",
   "id": "3403e47a",
   "metadata": {},
   "source": [
    "Some of the commonly used libraries used by Data Scientists include:\n",
    "    1. NumPy\n",
    "    2. pandas\n",
    "    3. skitkit-learn"
   ]
  },
  {
   "cell_type": "markdown",
   "id": "befd2d56",
   "metadata": {},
   "source": [
    "| Data Science Tools |\n",
    "|-----------------|\n",
    "| Jupyter Notebook |\n",
    "| VS Code |\n",
    "| RStudio |\n"
   ]
  },
  {
   "cell_type": "markdown",
   "id": "dbb8ef7b",
   "metadata": {},
   "source": []
  },
  {
   "cell_type": "markdown",
   "id": "151811a8",
   "metadata": {},
   "source": [
    "### Below are a few examples of evaluating arithmetic expresions in Python."
   ]
  },
  {
   "cell_type": "markdown",
   "id": "fe5eea8f",
   "metadata": {},
   "source": [
    "This is a simple arithmetic expression to multiply then add integers."
   ]
  },
  {
   "cell_type": "code",
   "execution_count": 20,
   "id": "5d774caf",
   "metadata": {},
   "outputs": [
    {
     "data": {
      "text/plain": [
       "17"
      ]
     },
     "execution_count": 20,
     "metadata": {},
     "output_type": "execute_result"
    }
   ],
   "source": [
    "(3*4)+5"
   ]
  },
  {
   "cell_type": "markdown",
   "id": "429d234b",
   "metadata": {},
   "source": [
    "This will convert 200 minutes to hours by dividing by 60."
   ]
  },
  {
   "cell_type": "code",
   "execution_count": 21,
   "id": "72238ee2",
   "metadata": {},
   "outputs": [
    {
     "data": {
      "text/plain": [
       "3.3333333333333335"
      ]
     },
     "execution_count": 21,
     "metadata": {},
     "output_type": "execute_result"
    }
   ],
   "source": [
    "200 / 60"
   ]
  },
  {
   "cell_type": "markdown",
   "id": "fb56eb22",
   "metadata": {},
   "source": [
    "## Author\n",
    "Florian Terne"
   ]
  },
  {
   "cell_type": "code",
   "execution_count": null,
   "id": "9d0c6850",
   "metadata": {},
   "outputs": [],
   "source": []
  }
 ],
 "metadata": {
  "kernelspec": {
   "display_name": "Python 3 (ipykernel)",
   "language": "python",
   "name": "python3"
  },
  "language_info": {
   "codemirror_mode": {
    "name": "ipython",
    "version": 3
   },
   "file_extension": ".py",
   "mimetype": "text/x-python",
   "name": "python",
   "nbconvert_exporter": "python",
   "pygments_lexer": "ipython3",
   "version": "3.11.3"
  }
 },
 "nbformat": 4,
 "nbformat_minor": 5
}
